{
 "cells": [
  {
   "cell_type": "code",
   "execution_count": 10,
   "metadata": {},
   "outputs": [],
   "source": [
    "###tek bir cellde yazıyorum yada py dosyasında script yazmam lazm open cv ile çalışıyorum çünkü\n",
    "\n",
    "import cv2\n",
    "import numpy as np\n",
    "\n",
    "\n",
    "##################\n",
    "#Function###\n",
    "######\n",
    "\n",
    "def draw_circle(event,x,y,flags,params):\n",
    "    if(event == cv2.EVENT_LBUTTONDOWN):\n",
    "        cv2.circle(img,(x,y),50,(0,255,0), -1)\n",
    "        \n",
    "    elif(event == cv2.EVENT_RBUTTONDOWN):\n",
    "        cv2.rectangle(img,(x,x-10),(y,y+10),(0,0,255),-1)\n",
    "\n",
    "#connection kuruyoruz gibi düşünebilirsin\n",
    "cv2.namedWindow(winname =\"my_drawwing\")\n",
    "\n",
    "cv2.setMouseCallback(\"my_drawwing\",draw_circle)\n",
    "\n",
    "\n",
    "\n",
    "\n",
    "\n",
    "\n",
    "###########\n",
    "##Showint with opencv#####3\n",
    "###################3\n",
    "\n",
    "img = np.zeros((1024,1024,3),np.int8)\n",
    "\n",
    "while True:\n",
    "    cv2.imshow(\"my_drawwing\",img)\n",
    "    \n",
    "    if (cv2.waitKey(20) & 0xFF ==27):\n",
    "        break\n",
    "        \n",
    "cv2.destroyAllWindows()\n"
   ]
  },
  {
   "cell_type": "code",
   "execution_count": null,
   "metadata": {},
   "outputs": [],
   "source": []
  }
 ],
 "metadata": {
  "kernelspec": {
   "display_name": "Python 3",
   "language": "python",
   "name": "python3"
  },
  "language_info": {
   "codemirror_mode": {
    "name": "ipython",
    "version": 3
   },
   "file_extension": ".py",
   "mimetype": "text/x-python",
   "name": "python",
   "nbconvert_exporter": "python",
   "pygments_lexer": "ipython3",
   "version": "3.7.4"
  }
 },
 "nbformat": 4,
 "nbformat_minor": 4
}
