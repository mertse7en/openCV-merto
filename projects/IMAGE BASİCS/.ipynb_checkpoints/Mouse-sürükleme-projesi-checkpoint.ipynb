{
 "cells": [
  {
   "cell_type": "code",
   "execution_count": 1,
   "metadata": {},
   "outputs": [
    {
     "name": "stdout",
     "output_type": "stream",
     "text": [
      "saindo\n"
     ]
    }
   ],
   "source": [
    "import cv2\n",
    "import numpy as np\n",
    "\n",
    "# variables\n",
    "drawing = False\n",
    "ix = -1\n",
    "iy = -1\n",
    "\n",
    "# function\n",
    "def draw_rectangle(event, x, y, flags, params):\n",
    "    \n",
    "    global ix, iy, drawing\n",
    "    \n",
    "    if event == cv2.EVENT_LBUTTONDOWN:\n",
    "        drawing = True\n",
    "        ix, iy = x, y\n",
    "        \n",
    "    elif event == cv2.EVENT_MOUSEMOVE:\n",
    "        if drawing == True:\n",
    "            cv2.rectangle(img, (ix, iy), (x,y), (0,255,0), -1)\n",
    "            \n",
    "    elif event == cv2.EVENT_LBUTTONUP:\n",
    "        drawing = False\n",
    "        cv2.rectangle(img, (ix, iy), (x,y), (0,255,0), -1)\n",
    "\n",
    "# showing the image\n",
    "\n",
    "img = np.zeros((512,512,3))\n",
    "\n",
    "cv2.namedWindow(winname='my_drawing')\n",
    "cv2.setMouseCallback('my_drawing', draw_rectangle)\n",
    "\n",
    "while True:\n",
    "    cv2.imshow('my_drawing', img)\n",
    "    \n",
    "    if cv2.waitKey(0) & 0xFF == ord('q'):\n",
    "        print('saindo')\n",
    "        break\n",
    "            \n",
    "cv2.destroyAllWindows()"
   ]
  },
  {
   "cell_type": "code",
   "execution_count": null,
   "metadata": {},
   "outputs": [],
   "source": []
  },
  {
   "cell_type": "code",
   "execution_count": null,
   "metadata": {},
   "outputs": [],
   "source": []
  }
 ],
 "metadata": {
  "kernelspec": {
   "display_name": "Python 3",
   "language": "python",
   "name": "python3"
  },
  "language_info": {
   "codemirror_mode": {
    "name": "ipython",
    "version": 3
   },
   "file_extension": ".py",
   "mimetype": "text/x-python",
   "name": "python",
   "nbconvert_exporter": "python",
   "pygments_lexer": "ipython3",
   "version": "3.7.4"
  }
 },
 "nbformat": 4,
 "nbformat_minor": 4
}
