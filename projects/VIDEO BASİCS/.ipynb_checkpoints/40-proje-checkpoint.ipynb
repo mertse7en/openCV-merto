{
 "cells": [
  {
   "cell_type": "code",
   "execution_count": 4,
   "metadata": {},
   "outputs": [],
   "source": [
    "import cv2\n",
    "\n",
    "\n",
    "\n",
    "#CALL BACK FUNCTİON \n",
    "def draw_circle(event,x,y,flags,params):\n",
    "    global pt1,isClicked\n",
    "    \n",
    "    if event == cv2.EVENT_LBUTTONDOWN :\n",
    "        if isClicked == True:\n",
    "            pt1 =(0,0)\n",
    "            isClicked = False\n",
    "            \n",
    "        if isClicked == False:\n",
    "            pt1=(x,y)\n",
    "            isClicked = True\n",
    "        \n",
    "        \n",
    "\n",
    "\n",
    "\n",
    "#GLOBAL VARİABLES\n",
    "pt1 =(0,0)\n",
    "isClicked = False\n",
    "\n",
    "\n",
    "\n",
    "#CONNECT TO CALLBACK\n",
    "cap = cv2.VideoCapture(0)\n",
    "cv2.namedWindow(\"test\")\n",
    "cv2.setMouseCallback(\"test\",draw_circle)\n",
    "\n",
    "\n",
    "while True:\n",
    "    \n",
    "    ret,frame = cap.read()\n",
    "    \n",
    "    \n",
    "    if(isClicked):\n",
    "        cv2.circle(frame,center = pt1,radius = 25,color = (255,0,0),thickness = 4)\n",
    "        \n",
    "    \n",
    "    \n",
    "    \n",
    "    \n",
    "    cv2.imshow(\"test\",frame)\n",
    "\n",
    "    if(cv2.waitKey(1) & 0xFF == ord(\"q\")):\n",
    "       break\n",
    "    \n",
    "    \n",
    "cap.release()\n",
    "cv2.destroyAllWindows()"
   ]
  },
  {
   "cell_type": "code",
   "execution_count": null,
   "metadata": {},
   "outputs": [],
   "source": []
  },
  {
   "cell_type": "code",
   "execution_count": null,
   "metadata": {},
   "outputs": [],
   "source": []
  }
 ],
 "metadata": {
  "kernelspec": {
   "display_name": "Python 3",
   "language": "python",
   "name": "python3"
  },
  "language_info": {
   "codemirror_mode": {
    "name": "ipython",
    "version": 3
   },
   "file_extension": ".py",
   "mimetype": "text/x-python",
   "name": "python",
   "nbconvert_exporter": "python",
   "pygments_lexer": "ipython3",
   "version": "3.7.4"
  }
 },
 "nbformat": 4,
 "nbformat_minor": 4
}
