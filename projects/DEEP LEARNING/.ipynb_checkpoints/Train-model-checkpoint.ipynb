{
 "cells": [
  {
   "cell_type": "code",
   "execution_count": 1,
   "metadata": {},
   "outputs": [],
   "source": [
    "import numpy as np\n",
    "from numpy import genfromtxt"
   ]
  },
  {
   "cell_type": "code",
   "execution_count": 2,
   "metadata": {},
   "outputs": [],
   "source": [
    "data = genfromtxt(\"../../DATA/bank_note_data.txt\",delimiter=\",\")"
   ]
  },
  {
   "cell_type": "code",
   "execution_count": 3,
   "metadata": {},
   "outputs": [
    {
     "data": {
      "text/plain": [
       "array([[  3.6216 ,   8.6661 ,  -2.8073 ,  -0.44699,   0.     ],\n",
       "       [  4.5459 ,   8.1674 ,  -2.4586 ,  -1.4621 ,   0.     ],\n",
       "       [  3.866  ,  -2.6383 ,   1.9242 ,   0.10645,   0.     ],\n",
       "       ...,\n",
       "       [ -3.7503 , -13.4586 ,  17.5932 ,  -2.7771 ,   1.     ],\n",
       "       [ -3.5637 ,  -8.3827 ,  12.393  ,  -1.2823 ,   1.     ],\n",
       "       [ -2.5419 ,  -0.65804,   2.6842 ,   1.1952 ,   1.     ]])"
      ]
     },
     "execution_count": 3,
     "metadata": {},
     "output_type": "execute_result"
    }
   ],
   "source": [
    "data"
   ]
  },
  {
   "cell_type": "code",
   "execution_count": 6,
   "metadata": {},
   "outputs": [],
   "source": [
    "labels = data[: , 4:]"
   ]
  },
  {
   "cell_type": "code",
   "execution_count": 7,
   "metadata": {},
   "outputs": [
    {
     "data": {
      "text/plain": [
       "array([[0.],\n",
       "       [0.],\n",
       "       [0.],\n",
       "       ...,\n",
       "       [1.],\n",
       "       [1.],\n",
       "       [1.]])"
      ]
     },
     "execution_count": 7,
     "metadata": {},
     "output_type": "execute_result"
    }
   ],
   "source": [
    "labels"
   ]
  },
  {
   "cell_type": "code",
   "execution_count": 8,
   "metadata": {},
   "outputs": [],
   "source": [
    "features = data[: , :4]"
   ]
  },
  {
   "cell_type": "code",
   "execution_count": 9,
   "metadata": {},
   "outputs": [
    {
     "data": {
      "text/plain": [
       "array([[  3.6216 ,   8.6661 ,  -2.8073 ,  -0.44699],\n",
       "       [  4.5459 ,   8.1674 ,  -2.4586 ,  -1.4621 ],\n",
       "       [  3.866  ,  -2.6383 ,   1.9242 ,   0.10645],\n",
       "       ...,\n",
       "       [ -3.7503 , -13.4586 ,  17.5932 ,  -2.7771 ],\n",
       "       [ -3.5637 ,  -8.3827 ,  12.393  ,  -1.2823 ],\n",
       "       [ -2.5419 ,  -0.65804,   2.6842 ,   1.1952 ]])"
      ]
     },
     "execution_count": 9,
     "metadata": {},
     "output_type": "execute_result"
    }
   ],
   "source": [
    "features"
   ]
  },
  {
   "cell_type": "code",
   "execution_count": 11,
   "metadata": {},
   "outputs": [],
   "source": [
    "X = features\n",
    "y = labels"
   ]
  },
  {
   "cell_type": "code",
   "execution_count": 12,
   "metadata": {},
   "outputs": [],
   "source": [
    "from sklearn.model_selection import train_test_split"
   ]
  },
  {
   "cell_type": "code",
   "execution_count": 13,
   "metadata": {},
   "outputs": [],
   "source": [
    "X_train , X_test , y_train,y_test = train_test_split(X,y,test_size = 0.33 , random_state = 42)"
   ]
  },
  {
   "cell_type": "code",
   "execution_count": 15,
   "metadata": {},
   "outputs": [
    {
     "data": {
      "text/plain": [
       "1372"
      ]
     },
     "execution_count": 15,
     "metadata": {},
     "output_type": "execute_result"
    }
   ],
   "source": [
    "len(X)"
   ]
  },
  {
   "cell_type": "code",
   "execution_count": 16,
   "metadata": {},
   "outputs": [
    {
     "data": {
      "text/plain": [
       "919"
      ]
     },
     "execution_count": 16,
     "metadata": {},
     "output_type": "execute_result"
    }
   ],
   "source": [
    "len(X_train)"
   ]
  },
  {
   "cell_type": "code",
   "execution_count": 18,
   "metadata": {},
   "outputs": [
    {
     "data": {
      "text/plain": [
       "453"
      ]
     },
     "execution_count": 18,
     "metadata": {},
     "output_type": "execute_result"
    }
   ],
   "source": [
    "len(X_test)"
   ]
  },
  {
   "cell_type": "code",
   "execution_count": 21,
   "metadata": {},
   "outputs": [],
   "source": [
    "from sklearn.preprocessing import MinMaxScaler"
   ]
  },
  {
   "cell_type": "code",
   "execution_count": 22,
   "metadata": {},
   "outputs": [],
   "source": [
    "scaler_object = MinMaxScaler()"
   ]
  },
  {
   "cell_type": "code",
   "execution_count": 23,
   "metadata": {},
   "outputs": [
    {
     "data": {
      "text/plain": [
       "MinMaxScaler(copy=True, feature_range=(0, 1))"
      ]
     },
     "execution_count": 23,
     "metadata": {},
     "output_type": "execute_result"
    }
   ],
   "source": [
    "scaler_object.fit(X_train)"
   ]
  },
  {
   "cell_type": "code",
   "execution_count": 28,
   "metadata": {},
   "outputs": [
    {
     "data": {
      "text/plain": [
       "17.9274"
      ]
     },
     "execution_count": 28,
     "metadata": {},
     "output_type": "execute_result"
    }
   ],
   "source": [
    "X_train.max()"
   ]
  },
  {
   "cell_type": "code",
   "execution_count": 29,
   "metadata": {},
   "outputs": [],
   "source": [
    "scaled_X_train = scaler_object.transform(X_train)\n",
    "scaled_X_test = scaler_object.transform(X_test)"
   ]
  },
  {
   "cell_type": "code",
   "execution_count": 32,
   "metadata": {},
   "outputs": [],
   "source": [
    "# 0 1 arasına normalize ettik şimdi modelimizik uralm"
   ]
  },
  {
   "cell_type": "code",
   "execution_count": null,
   "metadata": {},
   "outputs": [],
   "source": []
  },
  {
   "cell_type": "code",
   "execution_count": 33,
   "metadata": {},
   "outputs": [],
   "source": [
    "from keras.models import Sequential\n",
    "from keras.layers import Dense"
   ]
  },
  {
   "cell_type": "code",
   "execution_count": 59,
   "metadata": {},
   "outputs": [],
   "source": [
    "model = Sequential()\n",
    "\n",
    "model.add(Dense(4,input_dim=4 ,activation =\"relu\"))\n",
    "model.add(Dense(4,activation = \"relu\"))\n",
    "model.add(Dense(4,activation = \"relu\"))\n",
    "\n",
    "model.add(Dense(1,activation = \"sigmoid\"))"
   ]
  },
  {
   "cell_type": "code",
   "execution_count": 60,
   "metadata": {},
   "outputs": [],
   "source": [
    "model.compile(loss=\"binary_crossentropy\",optimizer=\"adam\",metrics=[\"accuracy\"])"
   ]
  },
  {
   "cell_type": "code",
   "execution_count": 61,
   "metadata": {},
   "outputs": [
    {
     "name": "stdout",
     "output_type": "stream",
     "text": [
      "Epoch 1/50\n",
      "919/919 [==============================] - 0s 456us/step - loss: 0.6929 - accuracy: 0.5441\n",
      "Epoch 2/50\n",
      "919/919 [==============================] - 0s 40us/step - loss: 0.6907 - accuracy: 0.6017\n",
      "Epoch 3/50\n",
      "919/919 [==============================] - 0s 42us/step - loss: 0.6842 - accuracy: 0.6899\n",
      "Epoch 4/50\n",
      "919/919 [==============================] - 0s 43us/step - loss: 0.6755 - accuracy: 0.7476\n",
      "Epoch 5/50\n",
      "919/919 [==============================] - 0s 40us/step - loss: 0.6665 - accuracy: 0.7682\n",
      "Epoch 6/50\n",
      "919/919 [==============================] - 0s 40us/step - loss: 0.6558 - accuracy: 0.7780\n",
      "Epoch 7/50\n",
      "919/919 [==============================] - 0s 40us/step - loss: 0.6446 - accuracy: 0.7650\n",
      "Epoch 8/50\n",
      "919/919 [==============================] - 0s 40us/step - loss: 0.6296 - accuracy: 0.7943\n",
      "Epoch 9/50\n",
      "919/919 [==============================] - 0s 40us/step - loss: 0.6117 - accuracy: 0.7737\n",
      "Epoch 10/50\n",
      "919/919 [==============================] - 0s 41us/step - loss: 0.5933 - accuracy: 0.7922\n",
      "Epoch 11/50\n",
      "919/919 [==============================] - 0s 41us/step - loss: 0.5753 - accuracy: 0.8085\n",
      "Epoch 12/50\n",
      "919/919 [==============================] - 0s 39us/step - loss: 0.5575 - accuracy: 0.7889\n",
      "Epoch 13/50\n",
      "919/919 [==============================] - 0s 41us/step - loss: 0.5390 - accuracy: 0.8248\n",
      "Epoch 14/50\n",
      "919/919 [==============================] - 0s 44us/step - loss: 0.5157 - accuracy: 0.8205\n",
      "Epoch 15/50\n",
      "919/919 [==============================] - 0s 39us/step - loss: 0.4785 - accuracy: 0.8477\n",
      "Epoch 16/50\n",
      "919/919 [==============================] - 0s 40us/step - loss: 0.4400 - accuracy: 0.8564\n",
      "Epoch 17/50\n",
      "919/919 [==============================] - 0s 38us/step - loss: 0.4061 - accuracy: 0.8662\n",
      "Epoch 18/50\n",
      "919/919 [==============================] - 0s 46us/step - loss: 0.3782 - accuracy: 0.8749\n",
      "Epoch 19/50\n",
      "919/919 [==============================] - 0s 38us/step - loss: 0.3532 - accuracy: 0.8901\n",
      "Epoch 20/50\n",
      "919/919 [==============================] - 0s 40us/step - loss: 0.3310 - accuracy: 0.8955\n",
      "Epoch 21/50\n",
      "919/919 [==============================] - 0s 40us/step - loss: 0.3087 - accuracy: 0.9021\n",
      "Epoch 22/50\n",
      "919/919 [==============================] - 0s 43us/step - loss: 0.2865 - accuracy: 0.9086\n",
      "Epoch 23/50\n",
      "919/919 [==============================] - 0s 44us/step - loss: 0.2676 - accuracy: 0.9238\n",
      "Epoch 24/50\n",
      "919/919 [==============================] - 0s 43us/step - loss: 0.2469 - accuracy: 0.9282\n",
      "Epoch 25/50\n",
      "919/919 [==============================] - 0s 40us/step - loss: 0.2291 - accuracy: 0.9293\n",
      "Epoch 26/50\n",
      "919/919 [==============================] - 0s 40us/step - loss: 0.2110 - accuracy: 0.9423\n",
      "Epoch 27/50\n",
      "919/919 [==============================] - 0s 39us/step - loss: 0.1954 - accuracy: 0.9478\n",
      "Epoch 28/50\n",
      "919/919 [==============================] - 0s 40us/step - loss: 0.1821 - accuracy: 0.9499\n",
      "Epoch 29/50\n",
      "919/919 [==============================] - 0s 42us/step - loss: 0.1678 - accuracy: 0.9456\n",
      "Epoch 30/50\n",
      "919/919 [==============================] - 0s 42us/step - loss: 0.1560 - accuracy: 0.9499\n",
      "Epoch 31/50\n",
      "919/919 [==============================] - 0s 43us/step - loss: 0.1457 - accuracy: 0.9554\n",
      "Epoch 32/50\n",
      "919/919 [==============================] - 0s 42us/step - loss: 0.1362 - accuracy: 0.9608\n",
      "Epoch 33/50\n",
      "919/919 [==============================] - 0s 43us/step - loss: 0.1281 - accuracy: 0.9565\n",
      "Epoch 34/50\n",
      "919/919 [==============================] - 0s 41us/step - loss: 0.1212 - accuracy: 0.9565\n",
      "Epoch 35/50\n",
      "919/919 [==============================] - 0s 48us/step - loss: 0.1140 - accuracy: 0.9565\n",
      "Epoch 36/50\n",
      "919/919 [==============================] - 0s 43us/step - loss: 0.1069 - accuracy: 0.9652\n",
      "Epoch 37/50\n",
      "919/919 [==============================] - 0s 39us/step - loss: 0.1022 - accuracy: 0.9663\n",
      "Epoch 38/50\n",
      "919/919 [==============================] - 0s 39us/step - loss: 0.0958 - accuracy: 0.9663\n",
      "Epoch 39/50\n",
      "919/919 [==============================] - 0s 42us/step - loss: 0.0925 - accuracy: 0.9619\n",
      "Epoch 40/50\n",
      "919/919 [==============================] - 0s 44us/step - loss: 0.0866 - accuracy: 0.9674\n",
      "Epoch 41/50\n",
      "919/919 [==============================] - 0s 41us/step - loss: 0.0869 - accuracy: 0.9695\n",
      "Epoch 42/50\n",
      "919/919 [==============================] - 0s 42us/step - loss: 0.0814 - accuracy: 0.9674\n",
      "Epoch 43/50\n",
      "919/919 [==============================] - 0s 41us/step - loss: 0.0773 - accuracy: 0.9695\n",
      "Epoch 44/50\n",
      "919/919 [==============================] - 0s 42us/step - loss: 0.0746 - accuracy: 0.9706\n",
      "Epoch 45/50\n",
      "919/919 [==============================] - 0s 42us/step - loss: 0.0709 - accuracy: 0.9717\n",
      "Epoch 46/50\n",
      "919/919 [==============================] - 0s 41us/step - loss: 0.0694 - accuracy: 0.9728\n",
      "Epoch 47/50\n",
      "919/919 [==============================] - 0s 42us/step - loss: 0.0661 - accuracy: 0.9750\n",
      "Epoch 48/50\n",
      "919/919 [==============================] - 0s 44us/step - loss: 0.0653 - accuracy: 0.9761\n",
      "Epoch 49/50\n",
      "919/919 [==============================] - 0s 46us/step - loss: 0.0633 - accuracy: 0.9761\n",
      "Epoch 50/50\n",
      "919/919 [==============================] - 0s 43us/step - loss: 0.0607 - accuracy: 0.9771\n"
     ]
    },
    {
     "data": {
      "text/plain": [
       "<keras.callbacks.callbacks.History at 0x194f0578cc8>"
      ]
     },
     "execution_count": 61,
     "metadata": {},
     "output_type": "execute_result"
    }
   ],
   "source": [
    "model.fit(scaled_X_train,y_train , epochs=50)"
   ]
  },
  {
   "cell_type": "code",
   "execution_count": 62,
   "metadata": {},
   "outputs": [],
   "source": [
    "from sklearn.metrics import confusion_matrix\n",
    "from sklearn.metrics import accuracy_score"
   ]
  },
  {
   "cell_type": "code",
   "execution_count": 63,
   "metadata": {},
   "outputs": [],
   "source": [
    "prediction = model.predict_classes(scaled_X_test)"
   ]
  },
  {
   "cell_type": "code",
   "execution_count": 64,
   "metadata": {},
   "outputs": [
    {
     "data": {
      "text/plain": [
       "array([[250,   7],\n",
       "       [  4, 192]], dtype=int64)"
      ]
     },
     "execution_count": 64,
     "metadata": {},
     "output_type": "execute_result"
    }
   ],
   "source": [
    "confusion_matrix(y_test , prediction)"
   ]
  },
  {
   "cell_type": "code",
   "execution_count": 65,
   "metadata": {},
   "outputs": [
    {
     "data": {
      "text/plain": [
       "0.9757174392935982"
      ]
     },
     "execution_count": 65,
     "metadata": {},
     "output_type": "execute_result"
    }
   ],
   "source": [
    "accuracy_score(y_test , prediction)"
   ]
  },
  {
   "cell_type": "markdown",
   "metadata": {},
   "source": [
    "## Modeli Save etmek için"
   ]
  },
  {
   "cell_type": "code",
   "execution_count": 66,
   "metadata": {},
   "outputs": [],
   "source": [
    "model.save(\"mysüpermodelkanka\")"
   ]
  },
  {
   "cell_type": "code",
   "execution_count": 67,
   "metadata": {},
   "outputs": [],
   "source": [
    "from keras.models import load_model"
   ]
  },
  {
   "cell_type": "code",
   "execution_count": 68,
   "metadata": {},
   "outputs": [],
   "source": [
    "modelim2 =load_model(\"mysüpermodelkanka\")"
   ]
  },
  {
   "cell_type": "code",
   "execution_count": null,
   "metadata": {},
   "outputs": [],
   "source": []
  }
 ],
 "metadata": {
  "kernelspec": {
   "display_name": "Python 3",
   "language": "python",
   "name": "python3"
  },
  "language_info": {
   "codemirror_mode": {
    "name": "ipython",
    "version": 3
   },
   "file_extension": ".py",
   "mimetype": "text/x-python",
   "name": "python",
   "nbconvert_exporter": "python",
   "pygments_lexer": "ipython3",
   "version": "3.7.4"
  }
 },
 "nbformat": 4,
 "nbformat_minor": 4
}
